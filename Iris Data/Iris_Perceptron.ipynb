{
 "cells": [
  {
   "cell_type": "code",
   "execution_count": 1,
   "metadata": {},
   "outputs": [],
   "source": [
    "import numpy as np\n",
    "import pandas as pd"
   ]
  },
  {
   "cell_type": "code",
   "execution_count": 4,
   "metadata": {
    "tags": []
   },
   "outputs": [
    {
     "output_type": "stream",
     "name": "stdout",
     "text": "    SepalLength  SepalWidth  PetalLength  PetalWidth            Label\n57          4.9         2.4          3.3         1.0  Iris-versicolor\n12          4.8         3.0          1.4         0.1      Iris-setosa\n80          5.5         2.4          3.8         1.1  Iris-versicolor\n94          5.6         2.7          4.2         1.3  Iris-versicolor\n7           5.0         3.4          1.5         0.2      Iris-setosa\n"
    }
   ],
   "source": [
    "df = pd.read_csv(\"./iris.data\")\n",
    "df = df[:100]\n",
    "df = df.sample(frac = 1)\n",
    "print(df.head())"
   ]
  },
  {
   "cell_type": "code",
   "execution_count": 5,
   "metadata": {},
   "outputs": [],
   "source": [
    "df['Label'] = df['Label'].map({'Iris-setosa' : 0, 'Iris-versicolor' : 1})# , 'Iris-virginica' : 2})\n",
    "\n",
    "X_train, y_train = df.iloc[:int(len(df)*.75), :-1].values, df.iloc[:int(len(df)*.75), -1].values\n",
    "X_test, y_test   = df.iloc[int(len(df)*.75):, :-1].values, df.iloc[int(len(df)*.75):, -1].values"
   ]
  },
  {
   "cell_type": "code",
   "execution_count": 6,
   "metadata": {},
   "outputs": [],
   "source": [
    "class Perceptron():\n",
    "\n",
    "    def __init__(self):\n",
    "        self.weights = np.array([.5, .5, .5, .5])\n",
    "        self.bias = np.array([.5])\n",
    "        self.error = 0\n",
    "\n",
    "    def forward(self, x):\n",
    "        pred = np.dot(x, self.weights) + self.bias\n",
    "        pred = 1/(1 + np.exp(-pred))\n",
    "        return pred\n",
    "    \n",
    "    def backward(self, x, yhat, y):\n",
    "        err = .5*((y - yhat)**2)\n",
    "        gradient_w = (yhat - y) * yhat * (1 - yhat) * x\n",
    "        gradient_b = (yhat - y) * yhat * (1 - yhat)\n",
    "        self.weights -= gradient_w\n",
    "        self.bias -= gradient_b\n",
    "        return err\n",
    "    \n",
    "    def fit(self, X_train, y_train, epochs = 50):\n",
    "        for epoch in range(epochs):\n",
    "            for x, y in zip(X_train, y_train):\n",
    "                yhat = self.forward(x)\n",
    "                err = self.backward(x, yhat, y)\n",
    "                self.error += err\n",
    "    \n",
    "    def predict(self, X_test):\n",
    "        pred = []\n",
    "        for i in X_test:\n",
    "            yhat = 1 if self.forward(i)>=0.5 else 0\n",
    "            pred.append(yhat)\n",
    "        return np.array(pred)\n",
    "    \n",
    "    def __str__(self):\n",
    "        return str(self.weights)"
   ]
  },
  {
   "cell_type": "code",
   "execution_count": 7,
   "metadata": {
    "tags": []
   },
   "outputs": [
    {
     "output_type": "stream",
     "name": "stdout",
     "text": "Error: [9.56676664]\n"
    }
   ],
   "source": [
    "clf = Perceptron()\n",
    "clf.fit(X_train, y_train)\n",
    "ypred = clf.predict(X_test)\n",
    "error = clf.error\n",
    "print(f\"Error: {error}\")"
   ]
  },
  {
   "cell_type": "code",
   "execution_count": 8,
   "metadata": {
    "tags": []
   },
   "outputs": [
    {
     "output_type": "stream",
     "name": "stdout",
     "text": "Accuracy: 1.0\nPrecision: 1.0\nRecall: 1.0\nF-Measure: 1.0\n"
    }
   ],
   "source": [
    "TP, TN, FP, FN = 0, 0, 0, 0\n",
    "for i, j in zip(y_test, ypred):\n",
    "    \n",
    "    if(i == 1 and i == j):\n",
    "        TP += 1\n",
    "    elif(i == j):\n",
    "        TN += 1\n",
    "        \n",
    "    #ans 1 but pred not 1\n",
    "    elif(i == 1):\n",
    "        FN += 1\n",
    "    else:\n",
    "        FP += 1\n",
    "\n",
    "acc = (TP+TN)/len(ypred)\n",
    "precision = TP/(TP+FP)\n",
    "recall = TP/(TP+FN)\n",
    "fmeasure = 2*(precision*recall)/(precision+recall)\n",
    "\n",
    "print(f\"Accuracy: {acc}\")\n",
    "print(f\"Precision: {precision}\")\n",
    "print(f\"Recall: {recall}\")\n",
    "print(f\"F-Measure: {fmeasure}\")"
   ]
  },
  {
   "cell_type": "code",
   "execution_count": null,
   "metadata": {},
   "outputs": [],
   "source": []
  }
 ],
 "metadata": {
  "kernelspec": {
   "display_name": "Python 3",
   "language": "python",
   "name": "python3"
  },
  "language_info": {
   "codemirror_mode": {
    "name": "ipython",
    "version": 3
   },
   "file_extension": ".py",
   "mimetype": "text/x-python",
   "name": "python",
   "nbconvert_exporter": "python",
   "pygments_lexer": "ipython3",
   "version": "3.7.7-final"
  }
 },
 "nbformat": 4,
 "nbformat_minor": 4
}